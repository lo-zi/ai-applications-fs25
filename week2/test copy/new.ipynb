{
 "cells": [
  {
   "cell_type": "code",
   "execution_count": 19,
   "metadata": {},
   "outputs": [
    {
     "name": "stdout",
     "output_type": "stream",
     "text": [
      "📊 Anzahl Zeilen - Apartments: 819\n",
      "📊 Anzahl Zeilen - Minergie: 261\n",
      "📊 Anzahl Zeilen nach Gruppierung (PLZ-Rooms, Area & Price): 132\n",
      "📊 Anzahl Zeilen nach Minergie-Merge: 132\n",
      "📌 Fehlende Werte vor Füllung:\n",
      "postalcode         0\n",
      "rooms              0\n",
      "area               0\n",
      "price              0\n",
      "minergie_anteil    0\n",
      "dtype: int64\n",
      "📌 Anzahl einzigartiger PLZs: 132\n",
      "✅ Neue Datei gespeichert unter: precomputed_data.csv\n"
     ]
    }
   ],
   "source": [
    "import pandas as pd\n",
    "\n",
    "# 🔹 Dateipfade definieren\n",
    "minergie_data_path = \"plz_häufigkeit.csv\"\n",
    "apartment_data_path = \"original_apartment_data_analytics_hs24_with_lat_lon.csv\"\n",
    "output_path = \"precomputed_data.csv\"\n",
    "\n",
    "# 🔹 Daten laden\n",
    "minergie_data = pd.read_csv(minergie_data_path)\n",
    "apartments = pd.read_csv(apartment_data_path)\n",
    "\n",
    "# 🔹 Datentypen korrigieren\n",
    "minergie_data['PLZ'] = minergie_data['PLZ'].astype(str)\n",
    "apartments['postalcode'] = apartments['postalcode'].astype(str)\n",
    "\n",
    "# 🔹 Debugging: Anzahl Zeilen in jeder Datei\n",
    "print(f\"📊 Anzahl Zeilen - Apartments: {len(apartments)}\")\n",
    "print(f\"📊 Anzahl Zeilen - Minergie: {len(minergie_data)}\")\n",
    "\n",
    "# 🔹 Durchschnittliche Werte pro PLZ berechnen\n",
    "features_avg = apartments.groupby('postalcode')[['rooms', 'area', 'price']].mean().reset_index()\n",
    "print(f\"📊 Anzahl Zeilen nach Gruppierung (PLZ-Rooms, Area & Price): {len(features_avg)}\")\n",
    "\n",
    "# 🔹 Minergie-Daten mit Apartments verbinden\n",
    "precomputed = features_avg.merge(minergie_data, left_on='postalcode', right_on='PLZ', how='left')\n",
    "print(f\"📊 Anzahl Zeilen nach Minergie-Merge: {len(precomputed)}\")\n",
    "\n",
    "# 🔹 Relevante Spalten behalten\n",
    "precomputed = precomputed[['postalcode', 'rooms', 'area', 'price', 'Häufigkeit']]\n",
    "precomputed.rename(columns={'Häufigkeit': 'minergie_anteil'}, inplace=True)\n",
    "\n",
    "# 🔹 Fehlende Werte anzeigen\n",
    "print(\"📌 Fehlende Werte vor Füllung:\")\n",
    "print(precomputed.isnull().sum())\n",
    "\n",
    "# 🔹 Fehlende Werte mit 0 füllen\n",
    "precomputed.fillna(0, inplace=True)\n",
    "\n",
    "# 🔹 Debugging: Überprüfen, ob `postalcode` doppelt ist\n",
    "print(\"📌 Anzahl einzigartiger PLZs:\", precomputed['postalcode'].nunique())\n",
    "\n",
    "# 🔹 Daten speichern\n",
    "precomputed.to_csv(output_path, index=False)\n",
    "print(f\"✅ Neue Datei gespeichert unter: {output_path}\")\n"
   ]
  },
  {
   "cell_type": "code",
   "execution_count": 12,
   "metadata": {},
   "outputs": [
    {
     "data": {
      "text/plain": [
       "['price_prediction_model.pkl']"
      ]
     },
     "execution_count": 12,
     "metadata": {},
     "output_type": "execute_result"
    }
   ],
   "source": [
    "from sklearn.ensemble import GradientBoostingRegressor\n",
    "from sklearn.model_selection import train_test_split\n",
    "import joblib\n",
    "import pandas as pd\n",
    "\n",
    "# 🔹 Daten laden\n",
    "data = pd.read_csv(\"precomputed_data.csv\")\n",
    "\n",
    "# 🔹 Features & Zielvariable definieren\n",
    "features = ['lat', 'lon', 'area', 'rooms', 'minergie_anteil', 'tax_income', \n",
    "            'pop_dens', 'emp', 'price_per_sqm', 'avg_rent']\n",
    "target = 'price'\n",
    "\n",
    "X = data[features]\n",
    "y = data[target]\n",
    "\n",
    "# 🔹 Daten aufteilen & Modell trainieren\n",
    "X_train, X_test, y_train, y_test = train_test_split(X, y, test_size=0.2, random_state=42)\n",
    "model = GradientBoostingRegressor(n_estimators=200, learning_rate=0.05, max_depth=5, random_state=42)\n",
    "model.fit(X_train, y_train)\n",
    "\n",
    "# 🔹 Modell speichern\n",
    "joblib.dump(model, \"price_prediction_model.pkl\")\n"
   ]
  },
  {
   "cell_type": "code",
   "execution_count": null,
   "metadata": {},
   "outputs": [
    {
     "name": "stdout",
     "output_type": "stream",
     "text": [
      "📥 Lade Modell...\n",
      "📥 Lade vorverarbeitete Daten...\n"
     ]
    },
    {
     "name": "stderr",
     "output_type": "stream",
     "text": [
      "/home/codespace/.python/current/lib/python3.12/site-packages/gradio/blocks.py:1108: UserWarning: Cannot load huggingface. Caught Exception: 404 Client Error: Not Found for url: https://huggingface.co/api/spaces/huggingface (Request ID: Root=1-67d5eac4-29c0d50d0108daab0070dad7;d5757d1b-ac47-4698-a3c7-dcabdc011405)\n",
      "\n",
      "Sorry, we can't find the page you are looking for.\n",
      "  warnings.warn(f\"Cannot load {theme}. Caught Exception: {str(e)}\")\n"
     ]
    },
    {
     "name": "stdout",
     "output_type": "stream",
     "text": [
      "* Running on local URL:  http://127.0.0.1:7867\n",
      "\n",
      "To create a public link, set `share=True` in `launch()`.\n"
     ]
    },
    {
     "data": {
      "text/html": [
       "<div><iframe src=\"http://127.0.0.1:7867/\" width=\"100%\" height=\"500\" allow=\"autoplay; camera; microphone; clipboard-read; clipboard-write;\" frameborder=\"0\" allowfullscreen></iframe></div>"
      ],
      "text/plain": [
       "<IPython.core.display.HTML object>"
      ]
     },
     "metadata": {},
     "output_type": "display_data"
    },
    {
     "data": {
      "text/plain": []
     },
     "execution_count": 13,
     "metadata": {},
     "output_type": "execute_result"
    },
    {
     "name": "stderr",
     "output_type": "stream",
     "text": [
      "/home/codespace/.local/lib/python3.12/site-packages/sklearn/utils/validation.py:2739: UserWarning: X does not have valid feature names, but GradientBoostingRegressor was fitted with feature names\n",
      "  warnings.warn(\n",
      "/home/codespace/.local/lib/python3.12/site-packages/sklearn/utils/validation.py:2739: UserWarning: X does not have valid feature names, but GradientBoostingRegressor was fitted with feature names\n",
      "  warnings.warn(\n",
      "/home/codespace/.local/lib/python3.12/site-packages/sklearn/utils/validation.py:2739: UserWarning: X does not have valid feature names, but GradientBoostingRegressor was fitted with feature names\n",
      "  warnings.warn(\n",
      "/home/codespace/.local/lib/python3.12/site-packages/sklearn/utils/validation.py:2739: UserWarning: X does not have valid feature names, but GradientBoostingRegressor was fitted with feature names\n",
      "  warnings.warn(\n",
      "/home/codespace/.local/lib/python3.12/site-packages/sklearn/utils/validation.py:2739: UserWarning: X does not have valid feature names, but GradientBoostingRegressor was fitted with feature names\n",
      "  warnings.warn(\n"
     ]
    }
   ],
   "source": [
    "import gradio as gr\n",
    "import pandas as pd\n",
    "import joblib\n",
    "import numpy as np\n",
    "\n",
    "# 🔹 **Dateipfade**\n",
    "MODEL_PATH = \"/workspaces/ai-applications-fs25/week2/test copy/price_prediction_model.pkl\"\n",
    "DATA_PATH = \"/workspaces/ai-applications-fs25/week2/test copy/precomputed_data.csv\"\n",
    "\n",
    "# 🔹 **Modell & Daten einmalig laden**\n",
    "print(\"📥 Lade Modell...\")\n",
    "model = joblib.load(MODEL_PATH)\n",
    "\n",
    "print(\"📥 Lade vorverarbeitete Daten...\")\n",
    "precomputed = pd.read_csv(DATA_PATH)\n",
    "\n",
    "# 🔹 **Sicherstellen, dass `town` eindeutige Werte hat**\n",
    "precomputed = precomputed.groupby('town', as_index=False).mean()\n",
    "\n",
    "# 🔹 **Daten als Dictionary für schnellen Zugriff**\n",
    "precomputed_dict = precomputed.set_index('town').to_dict(orient='index')\n",
    "\n",
    "# 🔹 **Dropdown-Liste mit Gemeindenamen**\n",
    "gemeinde_options = sorted(precomputed['town'].unique())\n",
    "\n",
    "beschreibung = \"\"\"\n",
    "🏡 **Wohnungspreis-Vorhersage mit Minergie & Steuerdaten**\n",
    "\n",
    "🔹 Wähle **Wohnfläche (m²)**, **Zimmeranzahl** und **Gemeinde**  \n",
    "🔹 Die App berechnet den erwarteten **Wohnungspreis** auf Basis von:\n",
    "  - Wohnfläche\n",
    "  - Anzahl der Zimmer\n",
    "  - Standortdaten (Latitude, Longitude)\n",
    "  - Steuer- & Minergie-Informationen\n",
    "\n",
    "---\n",
    "\n",
    "### 🔹 **Was ist Minergie?**\n",
    "Minergie ist ein **Schweizer Baustandard** für **energieeffiziente Gebäude**.  \n",
    "Ein Gebäude mit Minergie-Standard hat einen **geringeren Energieverbrauch**,  \n",
    "eine **bessere Dämmung** und nutzt **erneuerbare Energien** wie Solarenergie oder Wärmepumpen.\n",
    "\n",
    "---\n",
    "\n",
    "📌 **Datenquelle:**\n",
    "Die Minergie-Daten wurden durch **Web-Scraping** von  \n",
    "[minergie.ch](https://www.minergie.ch/de/gebaeude/gebaeudeliste/?canton=zh&country=&zip_place=&street_nr=&gid=&typeofuse=&constructiontype=&year=&sortby=year_desc&numres=12&p=50)  \n",
    "extrahiert, anschließend bereinigt und in das Modell integriert.\n",
    "\"\"\"\n",
    "\n",
    "\n",
    "# 🔹 **Vorhersagefunktion**\n",
    "def predict_price(area, rooms, town):\n",
    "    # Falls der Ort nicht in den Daten existiert\n",
    "    if town not in precomputed_dict:\n",
    "        return \"🚨 Fehler: Keine Daten für diese Gemeinde verfügbar.\"\n",
    "\n",
    "    # Werte aus dem Dictionary abrufen\n",
    "    data = precomputed_dict[town]\n",
    "\n",
    "    # 🔹 **Fehlende Features mit Standardwerten setzen**\n",
    "    missing_features = [\"pop_dens\", \"emp\"]\n",
    "    for feature in missing_features:\n",
    "        data.setdefault(feature, 0)  # Falls Feature fehlt, auf 0 setzen\n",
    "\n",
    "    # 🔹 **Modell-Eingaben vorbereiten (NumPy für schnellere Berechnungen)**\n",
    "    input_data = np.array([[area, rooms, data['lat'], data['lon'], \n",
    "                            data['minergie_anteil'], data['tax_income'],\n",
    "                            data['pop_dens'], data['emp'],  # Fehlende Features hinzugefügt\n",
    "                            data['price_per_sqm'], data['avg_rent']]])\n",
    "\n",
    "    # 🔹 **Modell-Vorhersage**\n",
    "    predicted_price = model.predict(input_data)[0]\n",
    "\n",
    "    return f\"🏡 Erwarteter Wohnungspreis in {town}: **CHF {predicted_price:,.2f}**\"\n",
    "\n",
    "# 🔹 **Gradio Interface**\n",
    "iface = gr.Interface(\n",
    "    fn=predict_price,\n",
    "    inputs=[\n",
    "        gr.Number(label=\"Wohnfläche (m²)\", value=50),\n",
    "        gr.Number(label=\"Zimmeranzahl\", value=2),\n",
    "        gr.Dropdown(choices=gemeinde_options, label=\"Gemeinde\")\n",
    "    ],\n",
    "    outputs=\"text\",\n",
    "    title=\"🏡 Wohnungspreis-Vorhersage mit Minergie & Steuerdaten\",\n",
    "    description=beschreibung,\n",
    "    theme=\"huggingface\",\n",
    "    live=False  # Verhindert unnötige Neuberechnungen bei Eingaben\n",
    ")\n",
    "\n",
    "# 🔹 **App starten**\n",
    "iface.launch()\n"
   ]
  },
  {
   "cell_type": "code",
   "execution_count": 5,
   "metadata": {},
   "outputs": [
    {
     "name": "stdout",
     "output_type": "stream",
     "text": [
      "🚀 Erwartete Features des Modells: ['lat' 'lon' 'area' 'rooms' 'minergie_anteil' 'tax_income' 'pop_dens'\n",
      " 'emp' 'price_per_sqm' 'avg_rent']\n",
      "📊 Anzahl erwarteter Features: 10\n"
     ]
    }
   ],
   "source": [
    "import joblib\n",
    "\n",
    "# Modell laden\n",
    "model = joblib.load(\"price_prediction_model.pkl\")\n",
    "\n",
    "# Die Anzahl der erwarteten Features ausgeben\n",
    "print(\"🚀 Erwartete Features des Modells:\", model.feature_names_in_)\n",
    "print(\"📊 Anzahl erwarteter Features:\", model.n_features_in_)\n"
   ]
  }
 ],
 "metadata": {
  "kernelspec": {
   "display_name": "Python 3",
   "language": "python",
   "name": "python3"
  },
  "language_info": {
   "codemirror_mode": {
    "name": "ipython",
    "version": 3
   },
   "file_extension": ".py",
   "mimetype": "text/x-python",
   "name": "python",
   "nbconvert_exporter": "python",
   "pygments_lexer": "ipython3",
   "version": "3.12.1"
  }
 },
 "nbformat": 4,
 "nbformat_minor": 2
}
