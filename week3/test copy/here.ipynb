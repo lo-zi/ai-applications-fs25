{
 "cells": [
  {
   "cell_type": "code",
   "execution_count": 1,
   "metadata": {},
   "outputs": [
    {
     "name": "stderr",
     "output_type": "stream",
     "text": [
      "/home/codespace/.local/lib/python3.12/site-packages/sklearn/base.py:380: InconsistentVersionWarning: Trying to unpickle estimator DecisionTreeRegressor from version 1.6.1 when using version 1.6.0. This might lead to breaking code or invalid results. Use at your own risk. For more info please refer to:\n",
      "https://scikit-learn.org/stable/model_persistence.html#security-maintainability-limitations\n",
      "  warnings.warn(\n",
      "/home/codespace/.local/lib/python3.12/site-packages/sklearn/base.py:380: InconsistentVersionWarning: Trying to unpickle estimator RandomForestRegressor from version 1.6.1 when using version 1.6.0. This might lead to breaking code or invalid results. Use at your own risk. For more info please refer to:\n",
      "https://scikit-learn.org/stable/model_persistence.html#security-maintainability-limitations\n",
      "  warnings.warn(\n"
     ]
    }
   ],
   "source": [
    "import pandas as pd\n",
    "import joblib\n",
    "\n",
    "# Lade dein bereits trainiertes schnelles Modell\n",
    "model = joblib.load('random_forest_regression.pkl')\n",
    "\n",
    "# Apartments-Daten laden\n",
    "apartments = pd.read_csv('original_apartment_data_analytics_hs24_with_lat_lon.csv')\n",
    "\n",
    "# Minergie-Daten laden\n",
    "minergie = pd.read_csv('ogd91_minergiegebaeude_pro_gemeinde.csv')\n"
   ]
  },
  {
   "cell_type": "code",
   "execution_count": 2,
   "metadata": {},
   "outputs": [],
   "source": [
    "# Merge Apartments mit Minergie-Daten\n",
    "merged_data = apartments.merge(minergie, left_on='bfs_number', right_on='BfsNumber', how='left')\n",
    "\n",
    "# Gesamt-Minergie-Feature berechnen\n",
    "merged_data['minergie_total'] = (\n",
    "    merged_data['Minergie'] +\n",
    "    merged_data['Minergie_Eco'] +\n",
    "    merged_data['Minergie_A'] +\n",
    "    merged_data['Minergie_A_Eco'] +\n",
    "    merged_data['Minergie_P'] +\n",
    "    merged_data['Minergie_P_Eco']\n",
    ")\n",
    "\n",
    "# Fülle fehlende Werte, falls nötig\n",
    "merged_data['minergie_total'] = merged_data['minergie_total'].fillna(merged_data['minergie_total'].median())\n"
   ]
  },
  {
   "cell_type": "code",
   "execution_count": 3,
   "metadata": {},
   "outputs": [
    {
     "data": {
      "text/plain": [
       "['random_forest_regression_with_minergie.pkl']"
      ]
     },
     "execution_count": 3,
     "metadata": {},
     "output_type": "execute_result"
    }
   ],
   "source": [
    "from sklearn.model_selection import train_test_split\n",
    "from sklearn.ensemble import RandomForestRegressor\n",
    "\n",
    "features = merged_data[['area', 'rooms', 'lat', 'lon', 'minergie_total']]\n",
    "target = merged_data['price']\n",
    "\n",
    "X_train, X_test, y_train, y_test = train_test_split(\n",
    "    features, target, test_size=0.2, random_state=42\n",
    ")\n",
    "\n",
    "# Schnelles Training\n",
    "model = RandomForestRegressor(n_estimators=10, max_depth=8, random_state=42, n_jobs=-1)\n",
    "model.fit(X_train, y_train)\n",
    "\n",
    "# Modell speichern\n",
    "joblib.dump(model, 'random_forest_regression_with_minergie.pkl')\n"
   ]
  },
  {
   "cell_type": "code",
   "execution_count": 12,
   "metadata": {},
   "outputs": [
    {
     "data": {
      "text/plain": [
       "['model_minergie.pkl']"
      ]
     },
     "execution_count": 12,
     "metadata": {},
     "output_type": "execute_result"
    }
   ],
   "source": [
    "import joblib\n",
    "joblib.dump(model, 'model_minergie.pkl')\n"
   ]
  },
  {
   "cell_type": "code",
   "execution_count": 14,
   "metadata": {},
   "outputs": [
    {
     "name": "stdout",
     "output_type": "stream",
     "text": [
      "* Running on local URL:  http://127.0.0.1:7878\n",
      "\n",
      "To create a public link, set `share=True` in `launch()`.\n"
     ]
    },
    {
     "data": {
      "text/html": [
       "<div><iframe src=\"http://127.0.0.1:7878/\" width=\"100%\" height=\"500\" allow=\"autoplay; camera; microphone; clipboard-read; clipboard-write;\" frameborder=\"0\" allowfullscreen></iframe></div>"
      ],
      "text/plain": [
       "<IPython.core.display.HTML object>"
      ]
     },
     "metadata": {},
     "output_type": "display_data"
    },
    {
     "data": {
      "text/plain": []
     },
     "execution_count": 14,
     "metadata": {},
     "output_type": "execute_result"
    }
   ],
   "source": [
    "import gradio as gr\n",
    "import pandas as pd\n",
    "import joblib\n",
    "\n",
    "# Neues Modell mit Minergie laden\n",
    "model = joblib.load('random_forest_regression_with_minergie.pkl')\n",
    "\n",
    "# Datensätze laden\n",
    "apartments = pd.read_csv(\"original_apartment_data_analytics_hs24_with_lat_lon.csv\")\n",
    "minergie = pd.read_csv(\"ogd91_minergiegebaeude_pro_gemeinde.csv\")\n",
    "minergie['minergie_total'] = (\n",
    "    minergie['Minergie'] + minergie['Minergie_Eco'] +\n",
    "    minergie['Minergie_A'] + minergie['Minergie_A_Eco'] +\n",
    "    minergie['Minergie_P'] + minergie['Minergie_P_Eco']\n",
    ")\n",
    "\n",
    "# Gemeinden vorbereiten (für Dropdown-Menü)\n",
    "gemeinden_df = apartments[['bfs_number', 'town']].drop_duplicates().sort_values('town')\n",
    "gemeinde_options = dict(zip(gemeinden_df['town'], gemeinden_df['bfs_number']))\n",
    "\n",
    "# Vorhersagefunktion definieren\n",
    "def predict_price(area, rooms, gemeinde_name):\n",
    "    bfs_number = gemeinde_options[gemeinde_name]\n",
    "\n",
    "    # Minergie-Wert abrufen\n",
    "    minergie_total = minergie.loc[minergie['BfsNumber'] == bfs_number, 'minergie_total'].values\n",
    "    minergie_total = minergie_total[0] if len(minergie_total) else minergie['minergie_total'].median()\n",
    "\n",
    "    # Durchschnittliche Koordinaten der Gemeinde ermitteln\n",
    "    coords = apartments.loc[apartments['bfs_number'] == bfs_number, ['lat', 'lon']].mean()\n",
    "\n",
    "    input_df = pd.DataFrame([{\n",
    "        'area': area,\n",
    "        'rooms': rooms,\n",
    "        'lat': coords['lat'],\n",
    "        'lon': coords['lon'],\n",
    "        'minergie_total': minergie_total\n",
    "    }])\n",
    "\n",
    "    # Vorhersage mit Modell\n",
    "    pred = model.predict(input_df)[0]\n",
    "\n",
    "    return f\"💡 Geschätzter Preis: CHF {pred:.2f}\"\n",
    "\n",
    "# Interface erstellen\n",
    "iface = gr.Interface(\n",
    "    fn=predict_price,\n",
    "    inputs=[\n",
    "        gr.Number(label=\"Fläche (m²)\"),\n",
    "        gr.Number(label=\"Anzahl Zimmer\"),\n",
    "        gr.Dropdown(choices=list(gemeinde_options.keys()), label=\"Gemeinde\")\n",
    "    ],\n",
    "    outputs=\"text\",\n",
    "    title=\"Immobilienpreisvorhersage inkl. Minergie\",\n",
    "    description=\"Gib Fläche, Zimmeranzahl und Gemeinde an, um den Wohnungspreis vorherzusagen.\"\n",
    ")\n",
    "\n",
    "iface.launch()\n"
   ]
  }
 ],
 "metadata": {
  "kernelspec": {
   "display_name": "Python 3",
   "language": "python",
   "name": "python3"
  },
  "language_info": {
   "codemirror_mode": {
    "name": "ipython",
    "version": 3
   },
   "file_extension": ".py",
   "mimetype": "text/x-python",
   "name": "python",
   "nbconvert_exporter": "python",
   "pygments_lexer": "ipython3",
   "version": "3.12.1"
  }
 },
 "nbformat": 4,
 "nbformat_minor": 2
}
