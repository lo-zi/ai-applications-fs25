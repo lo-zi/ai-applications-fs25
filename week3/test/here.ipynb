{
 "cells": [
  {
   "cell_type": "code",
   "execution_count": 9,
   "metadata": {},
   "outputs": [],
   "source": [
    "import pandas as pd\n",
    "\n",
    "# Datensätze einlesen\n",
    "apartments = pd.read_csv(\"original_apartment_data_analytics_hs24_with_lat_lon.csv\")\n",
    "minergie = pd.read_csv(\"ogd91_minergiegebaeude_pro_gemeinde.csv\")\n",
    "\n",
    "# Zusammenführen anhand BFS-Nummer\n",
    "merged_data = apartments.merge(minergie, left_on='bfs_number', right_on='BfsNumber', how='left')\n",
    "\n",
    "# Minergie-Feature erstellen\n",
    "merged_data['minergie_total'] = (\n",
    "    merged_data['Minergie'] +\n",
    "    merged_data['Minergie_Eco'] +\n",
    "    merged_data['Minergie_A'] +\n",
    "    merged_data['Minergie_A_Eco'] +\n",
    "    merged_data['Minergie_P'] +\n",
    "    merged_data['Minergie_P_Eco']\n",
    ")\n",
    "\n",
    "# Prüfen auf fehlende Werte und ggf. füllen\n",
    "merged_data['minergie_total'] = merged_data['minergie_total'].fillna(merged_data['minergie_total'].median())\n"
   ]
  },
  {
   "cell_type": "code",
   "execution_count": 10,
   "metadata": {},
   "outputs": [],
   "source": [
    "# Feature-Auswahl\n",
    "features = merged_data[['area', 'rooms', 'lat', 'lon', 'minergie_total']]\n",
    "target = merged_data['price']\n"
   ]
  },
  {
   "cell_type": "code",
   "execution_count": 11,
   "metadata": {},
   "outputs": [
    {
     "name": "stdout",
     "output_type": "stream",
     "text": [
      "RMSE: 915.92\n",
      "R²: 0.50\n"
     ]
    }
   ],
   "source": [
    "from sklearn.ensemble import RandomForestRegressor\n",
    "from sklearn.model_selection import train_test_split\n",
    "from sklearn.metrics import mean_squared_error, r2_score\n",
    "import numpy as np\n",
    "\n",
    "# Trainings- und Testdatensatz erstellen\n",
    "X_train, X_test, y_train, y_test = train_test_split(\n",
    "    features, target, test_size=0.2, random_state=42\n",
    ")\n",
    "\n",
    "model = RandomForestRegressor(\n",
    "    n_estimators=10,    # sehr wenige Bäume\n",
    "    max_depth=8,        # geringe Tiefe\n",
    "    min_samples_split=20,  # weniger Splits\n",
    "    random_state=42,\n",
    "    n_jobs=-1           # Parallelisierung\n",
    ")\n",
    "\n",
    "model.fit(X_train, y_train)\n",
    "\n",
    "# Evaluierung\n",
    "y_pred = model.predict(X_test)\n",
    "rmse = np.sqrt(mean_squared_error(y_test, y_pred))\n",
    "r2 = r2_score(y_test, y_pred)\n",
    "\n",
    "print(f\"RMSE: {rmse:.2f}\")\n",
    "print(f\"R²: {r2:.2f}\")\n"
   ]
  },
  {
   "cell_type": "code",
   "execution_count": 12,
   "metadata": {},
   "outputs": [
    {
     "data": {
      "text/plain": [
       "['model_minergie.pkl']"
      ]
     },
     "execution_count": 12,
     "metadata": {},
     "output_type": "execute_result"
    }
   ],
   "source": [
    "import joblib\n",
    "joblib.dump(model, 'model_minergie.pkl')\n"
   ]
  },
  {
   "cell_type": "code",
   "execution_count": 1,
   "metadata": {},
   "outputs": [
    {
     "name": "stderr",
     "output_type": "stream",
     "text": [
      "/home/codespace/.python/current/lib/python3.12/site-packages/tqdm/auto.py:21: TqdmWarning: IProgress not found. Please update jupyter and ipywidgets. See https://ipywidgets.readthedocs.io/en/stable/user_install.html\n",
      "  from .autonotebook import tqdm as notebook_tqdm\n"
     ]
    },
    {
     "name": "stdout",
     "output_type": "stream",
     "text": [
      "* Running on local URL:  http://127.0.0.1:7864\n",
      "\n",
      "To create a public link, set `share=True` in `launch()`.\n"
     ]
    },
    {
     "data": {
      "text/html": [
       "<div><iframe src=\"http://127.0.0.1:7864/\" width=\"100%\" height=\"500\" allow=\"autoplay; camera; microphone; clipboard-read; clipboard-write;\" frameborder=\"0\" allowfullscreen></iframe></div>"
      ],
      "text/plain": [
       "<IPython.core.display.HTML object>"
      ]
     },
     "metadata": {},
     "output_type": "display_data"
    },
    {
     "data": {
      "text/plain": []
     },
     "execution_count": 1,
     "metadata": {},
     "output_type": "execute_result"
    },
    {
     "name": "stderr",
     "output_type": "stream",
     "text": [
      "Traceback (most recent call last):\n",
      "  File \"/home/codespace/.python/current/lib/python3.12/site-packages/gradio/queueing.py\", line 625, in process_events\n",
      "    response = await route_utils.call_process_api(\n",
      "               ^^^^^^^^^^^^^^^^^^^^^^^^^^^^^^^^^^^\n",
      "  File \"/home/codespace/.python/current/lib/python3.12/site-packages/gradio/route_utils.py\", line 322, in call_process_api\n",
      "    output = await app.get_blocks().process_api(\n",
      "             ^^^^^^^^^^^^^^^^^^^^^^^^^^^^^^^^^^^\n",
      "  File \"/home/codespace/.python/current/lib/python3.12/site-packages/gradio/blocks.py\", line 2108, in process_api\n",
      "    result = await self.call_function(\n",
      "             ^^^^^^^^^^^^^^^^^^^^^^^^^\n",
      "  File \"/home/codespace/.python/current/lib/python3.12/site-packages/gradio/blocks.py\", line 1655, in call_function\n",
      "    prediction = await anyio.to_thread.run_sync(  # type: ignore\n",
      "                 ^^^^^^^^^^^^^^^^^^^^^^^^^^^^^^^^^^^^^^^^^^^^^^^\n",
      "  File \"/home/codespace/.local/lib/python3.12/site-packages/anyio/to_thread.py\", line 56, in run_sync\n",
      "    return await get_async_backend().run_sync_in_worker_thread(\n",
      "           ^^^^^^^^^^^^^^^^^^^^^^^^^^^^^^^^^^^^^^^^^^^^^^^^^^^^\n",
      "  File \"/home/codespace/.local/lib/python3.12/site-packages/anyio/_backends/_asyncio.py\", line 2505, in run_sync_in_worker_thread\n",
      "    return await future\n",
      "           ^^^^^^^^^^^^\n",
      "  File \"/home/codespace/.local/lib/python3.12/site-packages/anyio/_backends/_asyncio.py\", line 1005, in run\n",
      "    result = context.run(func, *args)\n",
      "             ^^^^^^^^^^^^^^^^^^^^^^^^\n",
      "  File \"/home/codespace/.python/current/lib/python3.12/site-packages/gradio/utils.py\", line 890, in wrapper\n",
      "    response = f(*args, **kwargs)\n",
      "               ^^^^^^^^^^^^^^^^^^\n",
      "  File \"/tmp/ipykernel_23293/1964141687.py\", line 51, in predict_prices\n",
      "    pred_mit = model.predict(input_mit_minergie)[0]\n",
      "               ^^^^^^^^^^^^^^^^^^^^^^^^^^^^^^^^^\n",
      "  File \"/home/codespace/.local/lib/python3.12/site-packages/sklearn/ensemble/_forest.py\", line 1065, in predict\n",
      "    X = self._validate_X_predict(X)\n",
      "        ^^^^^^^^^^^^^^^^^^^^^^^^^^^\n",
      "  File \"/home/codespace/.local/lib/python3.12/site-packages/sklearn/ensemble/_forest.py\", line 638, in _validate_X_predict\n",
      "    X = validate_data(\n",
      "        ^^^^^^^^^^^^^^\n",
      "  File \"/home/codespace/.local/lib/python3.12/site-packages/sklearn/utils/validation.py\", line 2919, in validate_data\n",
      "    _check_feature_names(_estimator, X, reset=reset)\n",
      "  File \"/home/codespace/.local/lib/python3.12/site-packages/sklearn/utils/validation.py\", line 2777, in _check_feature_names\n",
      "    raise ValueError(message)\n",
      "ValueError: The feature names should match those that were passed during fit.\n",
      "Feature names seen at fit time, yet now missing:\n",
      "- dist_zuerich\n",
      "- minergie_dichte\n",
      "\n",
      "Traceback (most recent call last):\n",
      "  File \"/home/codespace/.python/current/lib/python3.12/site-packages/gradio/queueing.py\", line 625, in process_events\n",
      "    response = await route_utils.call_process_api(\n",
      "               ^^^^^^^^^^^^^^^^^^^^^^^^^^^^^^^^^^^\n",
      "  File \"/home/codespace/.python/current/lib/python3.12/site-packages/gradio/route_utils.py\", line 322, in call_process_api\n",
      "    output = await app.get_blocks().process_api(\n",
      "             ^^^^^^^^^^^^^^^^^^^^^^^^^^^^^^^^^^^\n",
      "  File \"/home/codespace/.python/current/lib/python3.12/site-packages/gradio/blocks.py\", line 2108, in process_api\n",
      "    result = await self.call_function(\n",
      "             ^^^^^^^^^^^^^^^^^^^^^^^^^\n",
      "  File \"/home/codespace/.python/current/lib/python3.12/site-packages/gradio/blocks.py\", line 1655, in call_function\n",
      "    prediction = await anyio.to_thread.run_sync(  # type: ignore\n",
      "                 ^^^^^^^^^^^^^^^^^^^^^^^^^^^^^^^^^^^^^^^^^^^^^^^\n",
      "  File \"/home/codespace/.local/lib/python3.12/site-packages/anyio/to_thread.py\", line 56, in run_sync\n",
      "    return await get_async_backend().run_sync_in_worker_thread(\n",
      "           ^^^^^^^^^^^^^^^^^^^^^^^^^^^^^^^^^^^^^^^^^^^^^^^^^^^^\n",
      "  File \"/home/codespace/.local/lib/python3.12/site-packages/anyio/_backends/_asyncio.py\", line 2505, in run_sync_in_worker_thread\n",
      "    return await future\n",
      "           ^^^^^^^^^^^^\n",
      "  File \"/home/codespace/.local/lib/python3.12/site-packages/anyio/_backends/_asyncio.py\", line 1005, in run\n",
      "    result = context.run(func, *args)\n",
      "             ^^^^^^^^^^^^^^^^^^^^^^^^\n",
      "  File \"/home/codespace/.python/current/lib/python3.12/site-packages/gradio/utils.py\", line 890, in wrapper\n",
      "    response = f(*args, **kwargs)\n",
      "               ^^^^^^^^^^^^^^^^^^\n",
      "  File \"/tmp/ipykernel_23293/1964141687.py\", line 51, in predict_prices\n",
      "    pred_mit = model.predict(input_mit_minergie)[0]\n",
      "               ^^^^^^^^^^^^^^^^^^^^^^^^^^^^^^^^^\n",
      "  File \"/home/codespace/.local/lib/python3.12/site-packages/sklearn/ensemble/_forest.py\", line 1065, in predict\n",
      "    X = self._validate_X_predict(X)\n",
      "        ^^^^^^^^^^^^^^^^^^^^^^^^^^^\n",
      "  File \"/home/codespace/.local/lib/python3.12/site-packages/sklearn/ensemble/_forest.py\", line 638, in _validate_X_predict\n",
      "    X = validate_data(\n",
      "        ^^^^^^^^^^^^^^\n",
      "  File \"/home/codespace/.local/lib/python3.12/site-packages/sklearn/utils/validation.py\", line 2919, in validate_data\n",
      "    _check_feature_names(_estimator, X, reset=reset)\n",
      "  File \"/home/codespace/.local/lib/python3.12/site-packages/sklearn/utils/validation.py\", line 2777, in _check_feature_names\n",
      "    raise ValueError(message)\n",
      "ValueError: The feature names should match those that were passed during fit.\n",
      "Feature names seen at fit time, yet now missing:\n",
      "- dist_zuerich\n",
      "- minergie_dichte\n",
      "\n"
     ]
    }
   ],
   "source": [
    "import gradio as gr\n",
    "import pandas as pd\n",
    "import joblib\n",
    "\n",
    "# 🔹 Daten laden\n",
    "model = joblib.load(\"/workspaces/ai-applications-fs25/week2/test copy/fast_model_minergie.pkl\")\n",
    "apartments = pd.read_csv(\"/workspaces/ai-applications-fs25/week2/test copy/original_apartment_data_analytics_hs24_with_lat_lon.csv\")\n",
    "minergie_plz = pd.read_csv(\"/workspaces/ai-applications-fs25/week2/test copy/plz_häufigkeit.csv\")\n",
    "\n",
    "# 🔹 Sicherstellen, dass PLZ als Integer behandelt wird\n",
    "apartments['postalcode'] = apartments['postalcode'].astype(int)\n",
    "minergie_plz['PLZ'] = minergie_plz['PLZ'].astype(int)\n",
    "\n",
    "# 🔹 Mapping von Ort zu PLZ\n",
    "gemeinden_df = apartments[['postalcode', 'town']].drop_duplicates().sort_values('town')\n",
    "gemeinde_options = dict(zip(gemeinden_df['town'], gemeinden_df['postalcode']))\n",
    "\n",
    "beschreibung = \"\"\"\n",
    "🏡 **Wohnungspreis-Vorhersage mit Minergie-Feature**\n",
    "\n",
    "🔹 Wähle **Wohnfläche, Zimmeranzahl & Gemeinde**  \n",
    "🔹 Die App berechnet **zwei Preise**:\n",
    "  - ✅ **Mit Minergie** (berücksichtigt energieeffiziente Gebäude)\n",
    "  - ⚡ **Ohne Minergie** (keine Minergie-Gebäude berücksichtigt)\n",
    "\n",
    "📊 Alle Daten basieren auf den hochgeladenen CSV-Dateien!\n",
    "\"\"\"\n",
    "\n",
    "# 🔹 Funktion zur Preisvorhersage\n",
    "def predict_prices(area, rooms, ort):\n",
    "    postalcode = gemeinde_options[ort]\n",
    "\n",
    "    # Daten aus den geladenen CSV-Dateien abrufen\n",
    "    coords = apartments.loc[apartments['postalcode'] == postalcode, ['lat', 'lon']].mean()\n",
    "    minergie_count = minergie_plz.loc[minergie_plz['PLZ'] == postalcode, 'Häufigkeit'].values\n",
    "    minergie_count = minergie_count[0] if len(minergie_count) else 0  # Falls kein Wert vorhanden ist\n",
    "\n",
    "    # Modell-Eingaben vorbereiten\n",
    "    input_mit_minergie = pd.DataFrame([{\n",
    "        'area': area,\n",
    "        'rooms': rooms,\n",
    "        'lat': coords['lat'],\n",
    "        'lon': coords['lon'],\n",
    "        'minergie_anteil': minergie_count\n",
    "    }])\n",
    "\n",
    "    input_ohne_minergie = input_mit_minergie.copy()\n",
    "    input_ohne_minergie['minergie_anteil'] = 0  # Minergie deaktivieren\n",
    "\n",
    "    # Vorhersagen berechnen\n",
    "    pred_mit = model.predict(input_mit_minergie)[0]\n",
    "    pred_ohne = model.predict(input_ohne_minergie)[0]\n",
    "\n",
    "    return f\"✅ Preis mit Minergie: CHF {pred_mit:.2f}\\n⚡ Preis ohne Minergie: CHF {pred_ohne:.2f}\"\n",
    "\n",
    "# 🔹 Gradio Interface\n",
    "iface = gr.Interface(\n",
    "    fn=predict_prices,\n",
    "    inputs=[\n",
    "        gr.Number(label=\"Wohnfläche (m²)\"),\n",
    "        gr.Number(label=\"Zimmeranzahl\"),\n",
    "        gr.Dropdown(choices=list(gemeinde_options.keys()), label=\"Ort\")\n",
    "    ],\n",
    "    outputs=\"text\",\n",
    "    title=\"🏡 Wohnungspreis-Vorhersage (mit & ohne Minergie)\",\n",
    "    description=beschreibung\n",
    ")\n",
    "\n",
    "iface.launch()\n"
   ]
  }
 ],
 "metadata": {
  "kernelspec": {
   "display_name": "Python 3",
   "language": "python",
   "name": "python3"
  },
  "language_info": {
   "codemirror_mode": {
    "name": "ipython",
    "version": 3
   },
   "file_extension": ".py",
   "mimetype": "text/x-python",
   "name": "python",
   "nbconvert_exporter": "python",
   "pygments_lexer": "ipython3",
   "version": "3.12.1"
  }
 },
 "nbformat": 4,
 "nbformat_minor": 2
}
